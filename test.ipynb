{
 "cells": [
  {
   "cell_type": "code",
   "execution_count": 1,
   "id": "dd4d2d67",
   "metadata": {},
   "outputs": [
    {
     "ename": "SyntaxError",
     "evalue": "invalid syntax (1723906914.py, line 20)",
     "output_type": "error",
     "traceback": [
      "\u001b[0;36m  File \u001b[0;32m\"/tmp/ipykernel_513/1723906914.py\"\u001b[0;36m, line \u001b[0;32m20\u001b[0m\n\u001b[0;31m    for radius in np.range(1:10):\u001b[0m\n\u001b[0m                            ^\u001b[0m\n\u001b[0;31mSyntaxError\u001b[0m\u001b[0;31m:\u001b[0m invalid syntax\n"
     ]
    }
   ],
   "source": [
    "#Figure 3\n",
    "import numpy as np \n",
    "import matplotlib.pyplot as plt\n",
    "\n",
    "# specify circle parameters: centre ij and radius\n",
    "nodes = np.zeros((100,100,8))\n",
    "ci,cj=50,50\n",
    "\n",
    "# Create index arrays to z\n",
    "I,J=np.meshgrid(np.arange(nodes.shape[0]),np.arange(nodes.shape[1]))\n",
    "\n",
    "# calculate distance of all points to centre\n",
    "dist=np.sqrt((I-ci)**2+(J-cj)**2)\n",
    "\n",
    "\n",
    "\n",
    "\n",
    "#Run simulation over density\n",
    "\n",
    "for radius in np.range(1,10):\n",
    "    l=np.where(dist<radius)\n",
    "    k_1=np.ones(len(l[0]), dtype=int)\n",
    "    k_2=np.ones(len(l[0]), dtype=int)*4\n",
    "    new_1 = (*l, k_1)\n",
    "    new_2 = (*l, k_2)\n",
    "    nodes[new_1] = 1\n",
    "    nodes[new_2] = 1\n",
    "    \n",
    "    \n",
    "\n",
    "# arr = []\n",
    "# # arr_k = []\n",
    "# for kappa, i in zip(np.arange(-8, 8.1, 0.1), range(0,200)):\n",
    "# #     arr_k.append(kappa)\n",
    "#     arr.append([])\n",
    "#     kappa = round(kappa,1)\n",
    "# #     arr_i = []\n",
    "#     for theta, j in zip(np.arange(0, 1.04, 0.05), range(0,30)): \n",
    "#         #new lattice\n",
    "#         nodes = np.zeros((100,100,8))\n",
    "#         nodes[new_1] = 1\n",
    "#         nodes[new_2] = 1\n",
    "#         #run\n",
    "#         theta = round(theta,2)\n",
    "# #         arr_i.append(theta)\n",
    "#         lgca = get_lgca(interaction='go_or_grow', restchannels=4, kappa=kappa, theta=theta, nodes=nodes, \n",
    "#                         geometry='square')\n",
    "#         lgca.timeevo(timesteps=100)\n",
    "#         arr[i].append(lgca.nodes[:,:,4:].sum()) #summing rest cells\n",
    "\n",
    "# n_r_k_theta = np.flipud(arr)\n",
    "\n",
    "# print(\"Done!\")"
   ]
  },
  {
   "cell_type": "code",
   "execution_count": 11,
   "id": "0851ef8f",
   "metadata": {},
   "outputs": [
    {
     "name": "stdout",
     "output_type": "stream",
     "text": [
      "[[0. 0. 0. ... 0. 0. 0.]\n",
      " [0. 0. 0. ... 0. 0. 0.]\n",
      " [0. 0. 0. ... 0. 0. 0.]\n",
      " ...\n",
      " [0. 0. 0. ... 0. 0. 0.]\n",
      " [0. 0. 0. ... 0. 0. 0.]\n",
      " [0. 0. 0. ... 0. 0. 0.]]\n"
     ]
    },
    {
     "data": {
      "text/plain": [
       "0.007625"
      ]
     },
     "execution_count": 11,
     "metadata": {},
     "output_type": "execute_result"
    }
   ],
   "source": [
    "import numpy as np \n",
    "import matplotlib.pyplot as plt\n",
    "# specify circle parameters: centre ij and radius\n",
    "nodes = np.zeros((100,100,8))\n",
    "ci,cj=50,50\n",
    "cr=10\n",
    "\n",
    "# Create index arrays to z\n",
    "I,J=np.meshgrid(np.arange(nodes.shape[0]),np.arange(nodes.shape[1]))\n",
    "\n",
    "# calculate distance of all points to centre\n",
    "dist=np.sqrt((I-ci)**2+(J-cj)**2)\n",
    "\n",
    "# Assign value of 1 rest and moving to those points where dist<cr:\n",
    "l=np.where(dist<cr)\n",
    "k_1=np.ones(len(l[0]), dtype=int)\n",
    "k_2=np.ones(len(l[0]), dtype=int)*4\n",
    "new_1 = (*l, k_1)\n",
    "new_2 = (*l, k_2)\n",
    "nodes[new_1] = 1\n",
    "nodes[new_2] = 1\n",
    "\n",
    "nodes_2 = np.sum(nodes, axis = 2)\n",
    "print(nodes_2/8)\n",
    "nodes_2 = nodes_2/8\n",
    "nodes_2.sum()/10000\n"
   ]
  },
  {
   "cell_type": "markdown",
   "id": "04470f60",
   "metadata": {},
   "source": [
    "### import numpy as np \n",
    "import matplotlib.pyplot as plt\n",
    "\n",
    "# specify circle parameters: centre ij and radius\n",
    "nodes = np.zeros((100,100,8))\n",
    "ci,cj=50,50\n",
    "cr=10\n",
    "\n",
    "# Create index arrays to z\n",
    "I,J=np.meshgrid(np.arange(nodes.shape[0]),np.arange(nodes.shape[1]))\n",
    "\n",
    "# calculate distance of all points to centre\n",
    "dist=np.sqrt((I-ci)**2+(J-cj)**2)\n",
    "\n",
    "# Assign value of 1 rest and moving to those points where dist<cr:\n",
    "l=np.where(dist<cr)\n",
    "k_1=np.ones(len(l[0]), dtype=int)\n",
    "k_2=np.ones(len(l[0]), dtype=int)*4\n",
    "new_1 = (*l, k_1)\n",
    "new_2 = (*l, k_2)\n",
    "nodes[new_1] = 1\n",
    "nodes[new_2] = 1\n",
    "\n",
    "nodes.sum()/2\n"
   ]
  },
  {
   "cell_type": "code",
   "execution_count": 10,
   "id": "cc8051d9",
   "metadata": {},
   "outputs": [
    {
     "name": "stdout",
     "output_type": "stream",
     "text": [
      "1\n",
      "2\n",
      "3\n",
      "4\n",
      "5\n",
      "6\n",
      "7\n",
      "8\n",
      "9\n"
     ]
    }
   ],
   "source": [
    "for x in range(1,10):\n",
    "    print(x)"
   ]
  },
  {
   "cell_type": "code",
   "execution_count": null,
   "id": "f5f97d64",
   "metadata": {},
   "outputs": [],
   "source": []
  }
 ],
 "metadata": {
  "kernelspec": {
   "display_name": "Python 3 (ipykernel)",
   "language": "python",
   "name": "python3"
  },
  "language_info": {
   "codemirror_mode": {
    "name": "ipython",
    "version": 3
   },
   "file_extension": ".py",
   "mimetype": "text/x-python",
   "name": "python",
   "nbconvert_exporter": "python",
   "pygments_lexer": "ipython3",
   "version": "3.8.5"
  }
 },
 "nbformat": 4,
 "nbformat_minor": 5
}
