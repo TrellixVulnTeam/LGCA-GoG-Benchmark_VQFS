{
 "cells": [
  {
   "cell_type": "code",
   "execution_count": 3,
   "id": "bf9cf515",
   "metadata": {},
   "outputs": [],
   "source": [
    "import numpy as np\n",
    "import matplotlib.pyplot as plt\n",
    "\n",
    "x, y = np.meshgrid(range(15),range(6))\n",
    "v = np.random.rand(len(x.flatten()))"
   ]
  },
  {
   "cell_type": "code",
   "execution_count": 15,
   "id": "89813023",
   "metadata": {},
   "outputs": [
    {
     "name": "stdout",
     "output_type": "stream",
     "text": [
      "(90,)\n"
     ]
    }
   ],
   "source": [
    "print(v.shape)"
   ]
  },
  {
   "cell_type": "code",
   "execution_count": 13,
   "id": "20c375e7",
   "metadata": {},
   "outputs": [
    {
     "data": {
      "text/plain": [
       "array([ 0,  1,  2,  3,  4,  5,  6,  7,  8,  9, 10, 11, 12, 13, 14,  0,  1,\n",
       "        2,  3,  4,  5,  6,  7,  8,  9, 10, 11, 12, 13, 14,  0,  1,  2,  3,\n",
       "        4,  5,  6,  7,  8,  9, 10, 11, 12, 13, 14,  0,  1,  2,  3,  4,  5,\n",
       "        6,  7,  8,  9, 10, 11, 12, 13, 14,  0,  1,  2,  3,  4,  5,  6,  7,\n",
       "        8,  9, 10, 11, 12, 13, 14,  0,  1,  2,  3,  4,  5,  6,  7,  8,  9,\n",
       "       10, 11, 12, 13, 14])"
      ]
     },
     "execution_count": 13,
     "metadata": {},
     "output_type": "execute_result"
    }
   ],
   "source": []
  },
  {
   "cell_type": "code",
   "execution_count": 23,
   "id": "60455842",
   "metadata": {
    "scrolled": true
   },
   "outputs": [
    {
     "name": "stdout",
     "output_type": "stream",
     "text": [
      "-8.0 0\n",
      "-7.9 1\n",
      "-7.8 2\n",
      "-7.7 3\n",
      "-7.6 4\n",
      "-7.5 5\n",
      "-7.4 6\n",
      "-7.3 7\n",
      "-7.2 8\n",
      "-7.1 9\n",
      "-7.0 10\n",
      "-6.9 11\n",
      "-6.8 12\n",
      "-6.7 13\n",
      "-6.6 14\n",
      "-6.5 15\n",
      "-6.4 16\n",
      "-6.3 17\n",
      "-6.2 18\n",
      "-6.1 19\n",
      "-6.0 20\n",
      "-5.9 21\n",
      "-5.8 22\n",
      "-5.7 23\n",
      "-5.6 24\n",
      "-5.5 25\n",
      "-5.4 26\n",
      "-5.3 27\n",
      "-5.2 28\n",
      "-5.1 29\n",
      "-5.0 30\n",
      "-4.9 31\n",
      "-4.8 32\n",
      "-4.7 33\n",
      "-4.6 34\n",
      "-4.5 35\n",
      "-4.4 36\n",
      "-4.3 37\n",
      "-4.2 38\n",
      "-4.1 39\n",
      "-4.0 40\n",
      "-3.9 41\n",
      "-3.8 42\n",
      "-3.7 43\n",
      "-3.6 44\n",
      "-3.5 45\n",
      "-3.4 46\n",
      "-3.3 47\n",
      "-3.2 48\n",
      "-3.1 49\n",
      "-3.0 50\n",
      "-2.9 51\n",
      "-2.8 52\n",
      "-2.7 53\n",
      "-2.6 54\n",
      "-2.5 55\n",
      "-2.4 56\n",
      "-2.3 57\n",
      "-2.2 58\n",
      "-2.1 59\n",
      "-2.0 60\n",
      "-1.9 61\n",
      "-1.8 62\n",
      "-1.7 63\n",
      "-1.6 64\n",
      "-1.5 65\n",
      "-1.4 66\n",
      "-1.3 67\n",
      "-1.2 68\n",
      "-1.1 69\n",
      "-1.0 70\n",
      "-0.9 71\n",
      "-0.8 72\n",
      "-0.7 73\n",
      "-0.6 74\n",
      "-0.5 75\n",
      "-0.4 76\n",
      "-0.3 77\n",
      "-0.2 78\n",
      "-0.1 79\n",
      "-0.0 80\n",
      "0.1 81\n",
      "0.2 82\n",
      "0.3 83\n",
      "0.4 84\n",
      "0.5 85\n",
      "0.6 86\n",
      "0.7 87\n",
      "0.8 88\n",
      "0.9 89\n",
      "1.0 90\n",
      "1.1 91\n",
      "1.2 92\n",
      "1.3 93\n",
      "1.4 94\n",
      "1.5 95\n",
      "1.6 96\n",
      "1.7 97\n",
      "1.8 98\n",
      "1.9 99\n",
      "2.0 100\n",
      "2.1 101\n",
      "2.2 102\n",
      "2.3 103\n",
      "2.4 104\n",
      "2.5 105\n",
      "2.6 106\n",
      "2.7 107\n",
      "2.8 108\n",
      "2.9 109\n",
      "3.0 110\n",
      "3.1 111\n",
      "3.2 112\n",
      "3.3 113\n",
      "3.4 114\n",
      "3.5 115\n",
      "3.6 116\n",
      "3.7 117\n",
      "3.8 118\n",
      "3.9 119\n",
      "4.0 120\n",
      "4.1 121\n",
      "4.2 122\n",
      "4.3 123\n",
      "4.4 124\n",
      "4.5 125\n",
      "4.6 126\n",
      "4.7 127\n",
      "4.8 128\n",
      "4.9 129\n",
      "5.0 130\n",
      "5.1 131\n",
      "5.2 132\n",
      "5.3 133\n",
      "5.4 134\n",
      "5.5 135\n",
      "5.6 136\n",
      "5.7 137\n",
      "5.8 138\n",
      "5.9 139\n",
      "6.0 140\n",
      "6.1 141\n",
      "6.2 142\n",
      "6.3 143\n",
      "6.4 144\n",
      "6.5 145\n",
      "6.6 146\n",
      "6.7 147\n",
      "6.8 148\n",
      "6.9 149\n",
      "7.0 150\n",
      "7.1 151\n",
      "7.2 152\n",
      "7.3 153\n",
      "7.4 154\n",
      "7.5 155\n",
      "7.6 156\n",
      "7.7 157\n",
      "7.8 158\n",
      "7.9 159\n"
     ]
    }
   ],
   "source": [
    "for x, i in zip(np.arange(-8, 8, 0.1), range(0,161)):\n",
    "  print(round(x,1), i)"
   ]
  },
  {
   "cell_type": "code",
   "execution_count": 27,
   "id": "da3b8629",
   "metadata": {},
   "outputs": [
    {
     "name": "stdout",
     "output_type": "stream",
     "text": [
      "[1, 2, 3, 4, 5, 6, 7, 8, 9]\n"
     ]
    }
   ],
   "source": [
    "x = list(range(1,10))\n",
    "print(x)\n"
   ]
  },
  {
   "cell_type": "code",
   "execution_count": 28,
   "id": "230fd4fd",
   "metadata": {},
   "outputs": [
    {
     "data": {
      "text/plain": [
       "[5, 6, 7, 8, 9]"
      ]
     },
     "execution_count": 28,
     "metadata": {},
     "output_type": "execute_result"
    }
   ],
   "source": [
    "x[4:]"
   ]
  },
  {
   "cell_type": "code",
   "execution_count": 47,
   "id": "0f53461c",
   "metadata": {},
   "outputs": [
    {
     "name": "stdout",
     "output_type": "stream",
     "text": [
      "[[[0. 0. 0. 0. 0. 0. 0. 0.]\n",
      "  [0. 0. 0. 0. 0. 0. 0. 0.]\n",
      "  [0. 0. 0. 0. 0. 0. 0. 0.]\n",
      "  [0. 0. 0. 0. 0. 0. 0. 0.]\n",
      "  [0. 0. 0. 0. 0. 0. 0. 0.]]\n",
      "\n",
      " [[1. 0. 0. 0. 1. 0. 0. 0.]\n",
      "  [0. 0. 0. 0. 0. 0. 0. 0.]\n",
      "  [0. 0. 0. 0. 0. 0. 0. 0.]\n",
      "  [0. 0. 0. 0. 0. 0. 0. 0.]\n",
      "  [0. 0. 0. 0. 0. 0. 0. 0.]]\n",
      "\n",
      " [[1. 0. 0. 0. 1. 0. 0. 0.]\n",
      "  [0. 0. 0. 0. 0. 0. 0. 0.]\n",
      "  [0. 0. 0. 0. 0. 0. 0. 0.]\n",
      "  [0. 0. 0. 0. 0. 0. 0. 0.]\n",
      "  [0. 0. 0. 0. 0. 0. 0. 0.]]\n",
      "\n",
      " [[1. 0. 0. 0. 1. 0. 0. 0.]\n",
      "  [0. 0. 0. 0. 0. 0. 0. 0.]\n",
      "  [0. 0. 0. 0. 0. 0. 0. 0.]\n",
      "  [0. 0. 0. 0. 0. 0. 0. 0.]\n",
      "  [0. 0. 0. 0. 0. 0. 0. 0.]]\n",
      "\n",
      " [[0. 0. 0. 0. 0. 0. 0. 0.]\n",
      "  [0. 0. 0. 0. 0. 0. 0. 0.]\n",
      "  [0. 0. 0. 0. 0. 0. 0. 0.]\n",
      "  [0. 0. 0. 0. 0. 0. 0. 0.]\n",
      "  [0. 0. 0. 0. 0. 0. 0. 0.]]]\n"
     ]
    }
   ],
   "source": [
    "nodes = np.zeros((5,5,8))\n",
    "ci,cj=2,2\n",
    "cr=2\n",
    "\n",
    "# Create index arrays to z\n",
    "I,J=np.meshgrid(np.arange(nodes.shape[0]),np.arange(nodes.shape[1]))\n",
    "\n",
    "# calculate distance of all points to centre\n",
    "dist=np.sqrt((I-ci)**2+(J-cj)**2)\n",
    "\n",
    "# Assign value of 1 to those points where dist<cr:\n",
    "nodes[np.where(dist<cr),0,0]=1\n",
    "nodes[np.where(dist<cr),0,4]=1\n",
    "print(nodes)"
   ]
  },
  {
   "cell_type": "code",
   "execution_count": 40,
   "id": "c7a25cb2",
   "metadata": {},
   "outputs": [
    {
     "name": "stdout",
     "output_type": "stream",
     "text": [
      "\u001b[H\u001b[2J"
     ]
    }
   ],
   "source": []
  },
  {
   "cell_type": "code",
   "execution_count": null,
   "id": "a876cfbc",
   "metadata": {},
   "outputs": [],
   "source": []
  }
 ],
 "metadata": {
  "kernelspec": {
   "display_name": "Python 3 (ipykernel)",
   "language": "python",
   "name": "python3"
  },
  "language_info": {
   "codemirror_mode": {
    "name": "ipython",
    "version": 3
   },
   "file_extension": ".py",
   "mimetype": "text/x-python",
   "name": "python",
   "nbconvert_exporter": "python",
   "pygments_lexer": "ipython3",
   "version": "3.8.10"
  }
 },
 "nbformat": 4,
 "nbformat_minor": 5
}
